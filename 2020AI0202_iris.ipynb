{
  "nbformat": 4,
  "nbformat_minor": 0,
  "metadata": {
    "colab": {
      "name": "2020AI0202-iris.ipynb",
      "provenance": [],
      "authorship_tag": "ABX9TyPCbm7ssQP2eZJ/c8xs6Kbw",
      "include_colab_link": true
    },
    "kernelspec": {
      "name": "python3",
      "display_name": "Python 3"
    }
  },
  "cells": [
    {
      "cell_type": "markdown",
      "metadata": {
        "id": "view-in-github",
        "colab_type": "text"
      },
      "source": [
        "<a href=\"https://colab.research.google.com/github/aso1801002/AI_tech2020/blob/master/2020AI0202_iris.ipynb\" target=\"_parent\"><img src=\"https://colab.research.google.com/assets/colab-badge.svg\" alt=\"Open In Colab\"/></a>"
      ]
    },
    {
      "cell_type": "markdown",
      "metadata": {
        "id": "B2saxHy2Mxrn"
      },
      "source": [
        "### URLオブジェクトを使ってファイルをリンクから保存"
      ]
    },
    {
      "cell_type": "code",
      "metadata": {
        "id": "ue6epAxPNHfp"
      },
      "source": [
        "# urlライブラリのrequestクラスを　req という別名でimport \n",
        "import urllib.request as req\n",
        "# pandasライブラリを pd という別名でimport\n",
        "import pandas as pd"
      ],
      "execution_count": 3,
      "outputs": []
    },
    {
      "cell_type": "code",
      "metadata": {
        "id": "1rRu1787OyBn",
        "outputId": "e5c86f41-8a1d-4bcf-bd19-66749f7aec04",
        "colab": {
          "base_uri": "https://localhost:8080/",
          "height": 34
        }
      },
      "source": [
        "# urlという名前のオブジェクト変数を定義\n",
        "url =  \"https://github.com/pandas-dev/pandas/raw/master/pandas/tests/io/data/csv/iris.csv\"\n",
        "#リンクから保存するためのファイル名を定義\n",
        "savefile = \"iris.csv\"\n",
        "#requestクラスを使ってurlからデータをsavefileへコピー\n",
        "req.urlretrieve(url, savefile)\n",
        "print(\"保存しました\")"
      ],
      "execution_count": 4,
      "outputs": [
        {
          "output_type": "stream",
          "text": [
            "保存しました\n"
          ],
          "name": "stdout"
        }
      ]
    },
    {
      "cell_type": "markdown",
      "metadata": {
        "id": "-hbl4wyqQTzE"
      },
      "source": [
        "### 保存したcsvファイルをメモリ上に読み込んで表示させる\n",
        "\n"
      ]
    },
    {
      "cell_type": "code",
      "metadata": {
        "id": "MXSi4SBPQj_k",
        "outputId": "582a9d84-186f-457d-ef2f-bbf573856d8a",
        "colab": {
          "base_uri": "https://localhost:8080/",
          "height": 419
        }
      },
      "source": [
        "#pandasのread_csvメソッドを使ってcsvファイルを読み込む\n",
        "csv=pd.read_csv(savefile,encoding=\"utf-8\")\n",
        "csv"
      ],
      "execution_count": 5,
      "outputs": [
        {
          "output_type": "execute_result",
          "data": {
            "text/html": [
              "<div>\n",
              "<style scoped>\n",
              "    .dataframe tbody tr th:only-of-type {\n",
              "        vertical-align: middle;\n",
              "    }\n",
              "\n",
              "    .dataframe tbody tr th {\n",
              "        vertical-align: top;\n",
              "    }\n",
              "\n",
              "    .dataframe thead th {\n",
              "        text-align: right;\n",
              "    }\n",
              "</style>\n",
              "<table border=\"1\" class=\"dataframe\">\n",
              "  <thead>\n",
              "    <tr style=\"text-align: right;\">\n",
              "      <th></th>\n",
              "      <th>SepalLength</th>\n",
              "      <th>SepalWidth</th>\n",
              "      <th>PetalLength</th>\n",
              "      <th>PetalWidth</th>\n",
              "      <th>Name</th>\n",
              "    </tr>\n",
              "  </thead>\n",
              "  <tbody>\n",
              "    <tr>\n",
              "      <th>0</th>\n",
              "      <td>5.1</td>\n",
              "      <td>3.5</td>\n",
              "      <td>1.4</td>\n",
              "      <td>0.2</td>\n",
              "      <td>Iris-setosa</td>\n",
              "    </tr>\n",
              "    <tr>\n",
              "      <th>1</th>\n",
              "      <td>4.9</td>\n",
              "      <td>3.0</td>\n",
              "      <td>1.4</td>\n",
              "      <td>0.2</td>\n",
              "      <td>Iris-setosa</td>\n",
              "    </tr>\n",
              "    <tr>\n",
              "      <th>2</th>\n",
              "      <td>4.7</td>\n",
              "      <td>3.2</td>\n",
              "      <td>1.3</td>\n",
              "      <td>0.2</td>\n",
              "      <td>Iris-setosa</td>\n",
              "    </tr>\n",
              "    <tr>\n",
              "      <th>3</th>\n",
              "      <td>4.6</td>\n",
              "      <td>3.1</td>\n",
              "      <td>1.5</td>\n",
              "      <td>0.2</td>\n",
              "      <td>Iris-setosa</td>\n",
              "    </tr>\n",
              "    <tr>\n",
              "      <th>4</th>\n",
              "      <td>5.0</td>\n",
              "      <td>3.6</td>\n",
              "      <td>1.4</td>\n",
              "      <td>0.2</td>\n",
              "      <td>Iris-setosa</td>\n",
              "    </tr>\n",
              "    <tr>\n",
              "      <th>...</th>\n",
              "      <td>...</td>\n",
              "      <td>...</td>\n",
              "      <td>...</td>\n",
              "      <td>...</td>\n",
              "      <td>...</td>\n",
              "    </tr>\n",
              "    <tr>\n",
              "      <th>145</th>\n",
              "      <td>6.7</td>\n",
              "      <td>3.0</td>\n",
              "      <td>5.2</td>\n",
              "      <td>2.3</td>\n",
              "      <td>Iris-virginica</td>\n",
              "    </tr>\n",
              "    <tr>\n",
              "      <th>146</th>\n",
              "      <td>6.3</td>\n",
              "      <td>2.5</td>\n",
              "      <td>5.0</td>\n",
              "      <td>1.9</td>\n",
              "      <td>Iris-virginica</td>\n",
              "    </tr>\n",
              "    <tr>\n",
              "      <th>147</th>\n",
              "      <td>6.5</td>\n",
              "      <td>3.0</td>\n",
              "      <td>5.2</td>\n",
              "      <td>2.0</td>\n",
              "      <td>Iris-virginica</td>\n",
              "    </tr>\n",
              "    <tr>\n",
              "      <th>148</th>\n",
              "      <td>6.2</td>\n",
              "      <td>3.4</td>\n",
              "      <td>5.4</td>\n",
              "      <td>2.3</td>\n",
              "      <td>Iris-virginica</td>\n",
              "    </tr>\n",
              "    <tr>\n",
              "      <th>149</th>\n",
              "      <td>5.9</td>\n",
              "      <td>3.0</td>\n",
              "      <td>5.1</td>\n",
              "      <td>1.8</td>\n",
              "      <td>Iris-virginica</td>\n",
              "    </tr>\n",
              "  </tbody>\n",
              "</table>\n",
              "<p>150 rows × 5 columns</p>\n",
              "</div>"
            ],
            "text/plain": [
              "     SepalLength  SepalWidth  PetalLength  PetalWidth            Name\n",
              "0            5.1         3.5          1.4         0.2     Iris-setosa\n",
              "1            4.9         3.0          1.4         0.2     Iris-setosa\n",
              "2            4.7         3.2          1.3         0.2     Iris-setosa\n",
              "3            4.6         3.1          1.5         0.2     Iris-setosa\n",
              "4            5.0         3.6          1.4         0.2     Iris-setosa\n",
              "..           ...         ...          ...         ...             ...\n",
              "145          6.7         3.0          5.2         2.3  Iris-virginica\n",
              "146          6.3         2.5          5.0         1.9  Iris-virginica\n",
              "147          6.5         3.0          5.2         2.0  Iris-virginica\n",
              "148          6.2         3.4          5.4         2.3  Iris-virginica\n",
              "149          5.9         3.0          5.1         1.8  Iris-virginica\n",
              "\n",
              "[150 rows x 5 columns]"
            ]
          },
          "metadata": {
            "tags": []
          },
          "execution_count": 5
        }
      ]
    },
    {
      "cell_type": "markdown",
      "metadata": {
        "id": "tBDzvN9dV8aW"
      },
      "source": [
        "### 機械学習のライブラリを読み込む\n",
        "\n"
      ]
    },
    {
      "cell_type": "code",
      "metadata": {
        "id": "wkzAjPZAWDxZ"
      },
      "source": [
        "#機械学習のデータを学習用とテスト用に分けるためのクラス\n",
        "from sklearn.model_selection import train_test_split\n",
        "#サポートベクターマシーン(svc)のSVCアルゴリズムのクラス\n",
        "from sklearn.svm import SVC\n",
        "#テストの評価用クラス\n",
        "from sklearn.metrics import accuracy_score"
      ],
      "execution_count": 6,
      "outputs": []
    },
    {
      "cell_type": "code",
      "metadata": {
        "id": "Fle7qAv4Z85_"
      },
      "source": [
        "iris_data = pd.read_csv(\"iris.csv\",encoding=\"utf=8\")"
      ],
      "execution_count": 7,
      "outputs": []
    },
    {
      "cell_type": "markdown",
      "metadata": {
        "id": "S-BBwxlyXhXs"
      },
      "source": [
        "###アヤメのCSVデータを正解(ラベル)と入力用データに分離する"
      ]
    },
    {
      "cell_type": "markdown",
      "metadata": {
        "id": "mFDbJB2RYHSN"
      },
      "source": [
        "列を分ける"
      ]
    },
    {
      "cell_type": "code",
      "metadata": {
        "id": "sViCvI28YIui",
        "outputId": "a17b24ea-44d8-42f6-fba2-189287e6b4e5",
        "colab": {
          "base_uri": "https://localhost:8080/",
          "height": 221
        }
      },
      "source": [
        "#pythonのリスト切り出しを使って表を縦に分割する\n",
        "#yに右一列(Nameの列)だけを切り取って代入\n",
        "y = iris_data.loc[: ,\"Name\"]\n",
        "print(y)"
      ],
      "execution_count": 8,
      "outputs": [
        {
          "output_type": "stream",
          "text": [
            "0         Iris-setosa\n",
            "1         Iris-setosa\n",
            "2         Iris-setosa\n",
            "3         Iris-setosa\n",
            "4         Iris-setosa\n",
            "            ...      \n",
            "145    Iris-virginica\n",
            "146    Iris-virginica\n",
            "147    Iris-virginica\n",
            "148    Iris-virginica\n",
            "149    Iris-virginica\n",
            "Name: Name, Length: 150, dtype: object\n"
          ],
          "name": "stdout"
        }
      ]
    },
    {
      "cell_type": "code",
      "metadata": {
        "id": "TCtrcCPoa24t",
        "outputId": "2ca567cb-430c-43e9-9483-2c53fe25cee1",
        "colab": {
          "base_uri": "https://localhost:8080/",
          "height": 255
        }
      },
      "source": [
        "#xに4列のデータを切り取って代入\n",
        "x= iris_data.loc[ : , [\"SepalLength\",\"SepalWidth\",\"PetalLength\",\"PetalWidth\"]]\n",
        "print(x)"
      ],
      "execution_count": 9,
      "outputs": [
        {
          "output_type": "stream",
          "text": [
            "     SepalLength  SepalWidth  PetalLength  PetalWidth\n",
            "0            5.1         3.5          1.4         0.2\n",
            "1            4.9         3.0          1.4         0.2\n",
            "2            4.7         3.2          1.3         0.2\n",
            "3            4.6         3.1          1.5         0.2\n",
            "4            5.0         3.6          1.4         0.2\n",
            "..           ...         ...          ...         ...\n",
            "145          6.7         3.0          5.2         2.3\n",
            "146          6.3         2.5          5.0         1.9\n",
            "147          6.5         3.0          5.2         2.0\n",
            "148          6.2         3.4          5.4         2.3\n",
            "149          5.9         3.0          5.1         1.8\n",
            "\n",
            "[150 rows x 4 columns]\n"
          ],
          "name": "stdout"
        }
      ]
    },
    {
      "cell_type": "markdown",
      "metadata": {
        "id": "efqSC605tGnc"
      },
      "source": [
        "### XデータもYデータも学習用に使うデータとテスト検証用に使うデータに分けておく"
      ]
    },
    {
      "cell_type": "code",
      "metadata": {
        "id": "YEvMU0kYtS9K"
      },
      "source": [
        "#train_test_spilitを使って、xyもtestデータに分ける\n",
        "#比率は、test=0.2 train=0.8で変数に代入する\n",
        "x_train, x_test, y_train, y_test = train_test_split(x,y,test_size = 0.2,train_size = 0.8,shuffle = True)"
      ],
      "execution_count": 11,
      "outputs": []
    },
    {
      "cell_type": "markdown",
      "metadata": {
        "id": "Y-A5mZYDv8Tu"
      },
      "source": [
        "### X_train(入力データ),y_train(正解データ）を使ってモデルを学習させる\n"
      ]
    },
    {
      "cell_type": "code",
      "metadata": {
        "id": "2BvUtAtRwVTn"
      },
      "source": [
        "#SVCアルゴリズムの学習モデルのインスタンスを生成\n",
        "clf = SVC()"
      ],
      "execution_count": 13,
      "outputs": []
    },
    {
      "cell_type": "code",
      "metadata": {
        "id": "NhqYegmMwfxF",
        "outputId": "b72f6dfb-2fc7-40f1-bd53-7ebea9e20744",
        "colab": {
          "base_uri": "https://localhost:8080/",
          "height": 85
        }
      },
      "source": [
        "#svcアルゴリズムの学習モデルに学習用の入力データと正解データを引き渡して学習させる\n",
        "clf.fit(x_train,y_train)"
      ],
      "execution_count": 14,
      "outputs": [
        {
          "output_type": "execute_result",
          "data": {
            "text/plain": [
              "SVC(C=1.0, break_ties=False, cache_size=200, class_weight=None, coef0=0.0,\n",
              "    decision_function_shape='ovr', degree=3, gamma='scale', kernel='rbf',\n",
              "    max_iter=-1, probability=False, random_state=None, shrinking=True,\n",
              "    tol=0.001, verbose=False)"
            ]
          },
          "metadata": {
            "tags": []
          },
          "execution_count": 14
        }
      ]
    },
    {
      "cell_type": "markdown",
      "metadata": {
        "id": "f4-es9ivw5XU"
      },
      "source": [
        "###学習がうまくいったかを検証して評価する"
      ]
    },
    {
      "cell_type": "code",
      "metadata": {
        "id": "RzPtxBznw876",
        "outputId": "a1d5b272-5bdf-4958-e690-a0278991b666",
        "colab": {
          "base_uri": "https://localhost:8080/",
          "height": 34
        }
      },
      "source": [
        "#x_testデータを使って学習モデルclfに推論させる\n",
        "y_pred = clf.predict(x_test)\n",
        "#accuracy_scoreでy_predとy_testを比較する\n",
        "print(\"正解率 = \",accuracy_score(y_test,y_pred))"
      ],
      "execution_count": 15,
      "outputs": [
        {
          "output_type": "stream",
          "text": [
            "正解率 =  1.0\n"
          ],
          "name": "stdout"
        }
      ]
    },
    {
      "cell_type": "code",
      "metadata": {
        "id": "w0rZz_v3xhwc"
      },
      "source": [
        ""
      ],
      "execution_count": null,
      "outputs": []
    }
  ]
}