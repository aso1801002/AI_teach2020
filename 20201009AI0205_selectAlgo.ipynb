{
  "nbformat": 4,
  "nbformat_minor": 0,
  "metadata": {
    "colab": {
      "name": "20201009AI0205-selectAlgo.ipynb",
      "provenance": [],
      "authorship_tag": "ABX9TyN/AjoSqB/yEGssgUqr6Nmj",
      "include_colab_link": true
    },
    "kernelspec": {
      "name": "python3",
      "display_name": "Python 3"
    }
  },
  "cells": [
    {
      "cell_type": "markdown",
      "metadata": {
        "id": "view-in-github",
        "colab_type": "text"
      },
      "source": [
        "<a href=\"https://colab.research.google.com/github/aso1801002/AI_tech2020/blob/master/20201009AI0205_selectAlgo.ipynb\" target=\"_parent\"><img src=\"https://colab.research.google.com/assets/colab-badge.svg\" alt=\"Open In Colab\"/></a>"
      ]
    },
    {
      "cell_type": "markdown",
      "metadata": {
        "id": "i82HDHeBlZ7M"
      },
      "source": [
        "##sklernでエラーが出るので、前のバージョンを入れ直す"
      ]
    },
    {
      "cell_type": "code",
      "metadata": {
        "id": "1X950qZ9lj3g",
        "outputId": "75d1ccef-7cd1-4d14-d777-9758750ce052",
        "colab": {
          "base_uri": "https://localhost:8080/",
          "height": 429
        }
      },
      "source": [
        "##現在のサイキットラーンをアンインストール\n",
        "!pip uninstall scikit-learn\n",
        "##前のバージョンを指定してVMにインストール\n",
        "!pip install scikit-learn==0.20 --ignore-installed"
      ],
      "execution_count": null,
      "outputs": [
        {
          "output_type": "stream",
          "text": [
            "Uninstalling scikit-learn-0.20.0:\n",
            "  Would remove:\n",
            "    /usr/local/lib/python3.6/dist-packages/scikit_learn-0.20.0.dist-info/*\n",
            "    /usr/local/lib/python3.6/dist-packages/sklearn/*\n",
            "Proceed (y/n)? y\n",
            "  Successfully uninstalled scikit-learn-0.20.0\n",
            "Collecting scikit-learn==0.20\n",
            "  Using cached https://files.pythonhosted.org/packages/0c/b2/05be9b6da9ae4a4c54f537be22e95833f722742a02b1e355fdc09363877c/scikit_learn-0.20.0-cp36-cp36m-manylinux1_x86_64.whl\n",
            "Collecting numpy>=1.8.2\n",
            "  Using cached https://files.pythonhosted.org/packages/63/97/af8a92864a04bfa48f1b5c9b1f8bf2ccb2847f24530026f26dd223de4ca0/numpy-1.19.2-cp36-cp36m-manylinux2010_x86_64.whl\n",
            "Collecting scipy>=0.13.3\n",
            "  Using cached https://files.pythonhosted.org/packages/8a/14/d0475ceeaa047f3eae2dc7597c3d40228e1d5beee42c1730f3c96ffb5526/scipy-1.5.3-cp36-cp36m-manylinux1_x86_64.whl\n",
            "\u001b[31mERROR: tensorflow 2.3.0 has requirement numpy<1.19.0,>=1.16.0, but you'll have numpy 1.19.2 which is incompatible.\u001b[0m\n",
            "\u001b[31mERROR: tensorflow 2.3.0 has requirement scipy==1.4.1, but you'll have scipy 1.5.3 which is incompatible.\u001b[0m\n",
            "\u001b[31mERROR: datascience 0.10.6 has requirement folium==0.2.1, but you'll have folium 0.8.3 which is incompatible.\u001b[0m\n",
            "\u001b[31mERROR: albumentations 0.1.12 has requirement imgaug<0.2.7,>=0.2.5, but you'll have imgaug 0.2.9 which is incompatible.\u001b[0m\n",
            "Installing collected packages: numpy, scipy, scikit-learn\n",
            "Successfully installed numpy-1.19.2 scikit-learn-0.20.0 scipy-1.5.3\n"
          ],
          "name": "stdout"
        },
        {
          "output_type": "display_data",
          "data": {
            "application/vnd.colab-display-data+json": {
              "pip_warning": {
                "packages": [
                  "numpy"
                ]
              }
            }
          },
          "metadata": {
            "tags": []
          }
        }
      ]
    },
    {
      "cell_type": "markdown",
      "metadata": {
        "id": "fmHZkrf3w_gz"
      },
      "source": [
        "## all_estimators()でループして各種のアルゴリズムで学習させ、比較する"
      ]
    },
    {
      "cell_type": "code",
      "metadata": {
        "id": "ZXWgbkhJwsDy"
      },
      "source": [
        "#ライブラリの読み込み\n",
        "import pandas as pd\n",
        "#学習用データとテスト検証用データを分割するライブラリ\n",
        "from sklearn.model_selection import train_test_split\n",
        "#正解率を算出するライブラリ\n",
        "from sklearn.metrics import accuracy_score\n",
        "# all_estimators(推定器の全てを利用できるようにする)\n",
        "from sklearn.utils.testing import all_estimators\n",
        "#警告クラス\n",
        "import warnings"
      ],
      "execution_count": null,
      "outputs": []
    },
    {
      "cell_type": "markdown",
      "metadata": {
        "id": "Mf9fCA2qyu4x"
      },
      "source": [
        "## webからアヤメのデータを読み込む"
      ]
    },
    {
      "cell_type": "code",
      "metadata": {
        "id": "Rb-ZdvQLypJv",
        "outputId": "fbf01992-50c7-4f19-8efc-eee0966bae3b",
        "colab": {
          "base_uri": "https://localhost:8080/",
          "height": 204
        }
      },
      "source": [
        "#urlリンクから読み込むライブラリ\n",
        "import urllib.request as req\n",
        "#url用の文字列変数を定義\n",
        "url = \"https://raw.githubusercontent.com/pandas-dev/pandas/master/pandas/tests/io/data/csv/iris.csv\"\n",
        "#リンクから保存するためのファイル名を定義\n",
        "savefile = \"iris.csv\"\n",
        "req.urlretrieve(url,savefile)\n",
        "#pandasのread_csvメソッドを使ってcsvファイルを読み込む\n",
        "iris_data = pd.read_csv(savefile,encoding=\"utf-8\")\n",
        "iris_data.head()"
      ],
      "execution_count": null,
      "outputs": [
        {
          "output_type": "execute_result",
          "data": {
            "text/html": [
              "<div>\n",
              "<style scoped>\n",
              "    .dataframe tbody tr th:only-of-type {\n",
              "        vertical-align: middle;\n",
              "    }\n",
              "\n",
              "    .dataframe tbody tr th {\n",
              "        vertical-align: top;\n",
              "    }\n",
              "\n",
              "    .dataframe thead th {\n",
              "        text-align: right;\n",
              "    }\n",
              "</style>\n",
              "<table border=\"1\" class=\"dataframe\">\n",
              "  <thead>\n",
              "    <tr style=\"text-align: right;\">\n",
              "      <th></th>\n",
              "      <th>SepalLength</th>\n",
              "      <th>SepalWidth</th>\n",
              "      <th>PetalLength</th>\n",
              "      <th>PetalWidth</th>\n",
              "      <th>Name</th>\n",
              "    </tr>\n",
              "  </thead>\n",
              "  <tbody>\n",
              "    <tr>\n",
              "      <th>0</th>\n",
              "      <td>5.1</td>\n",
              "      <td>3.5</td>\n",
              "      <td>1.4</td>\n",
              "      <td>0.2</td>\n",
              "      <td>Iris-setosa</td>\n",
              "    </tr>\n",
              "    <tr>\n",
              "      <th>1</th>\n",
              "      <td>4.9</td>\n",
              "      <td>3.0</td>\n",
              "      <td>1.4</td>\n",
              "      <td>0.2</td>\n",
              "      <td>Iris-setosa</td>\n",
              "    </tr>\n",
              "    <tr>\n",
              "      <th>2</th>\n",
              "      <td>4.7</td>\n",
              "      <td>3.2</td>\n",
              "      <td>1.3</td>\n",
              "      <td>0.2</td>\n",
              "      <td>Iris-setosa</td>\n",
              "    </tr>\n",
              "    <tr>\n",
              "      <th>3</th>\n",
              "      <td>4.6</td>\n",
              "      <td>3.1</td>\n",
              "      <td>1.5</td>\n",
              "      <td>0.2</td>\n",
              "      <td>Iris-setosa</td>\n",
              "    </tr>\n",
              "    <tr>\n",
              "      <th>4</th>\n",
              "      <td>5.0</td>\n",
              "      <td>3.6</td>\n",
              "      <td>1.4</td>\n",
              "      <td>0.2</td>\n",
              "      <td>Iris-setosa</td>\n",
              "    </tr>\n",
              "  </tbody>\n",
              "</table>\n",
              "</div>"
            ],
            "text/plain": [
              "   SepalLength  SepalWidth  PetalLength  PetalWidth         Name\n",
              "0          5.1         3.5          1.4         0.2  Iris-setosa\n",
              "1          4.9         3.0          1.4         0.2  Iris-setosa\n",
              "2          4.7         3.2          1.3         0.2  Iris-setosa\n",
              "3          4.6         3.1          1.5         0.2  Iris-setosa\n",
              "4          5.0         3.6          1.4         0.2  Iris-setosa"
            ]
          },
          "metadata": {
            "tags": []
          },
          "execution_count": 3
        }
      ]
    },
    {
      "cell_type": "markdown",
      "metadata": {
        "id": "3x7OyJ6Bg1ck"
      },
      "source": [
        "##アヤメデータを目的変数yと説明変数xに分類する"
      ]
    },
    {
      "cell_type": "code",
      "metadata": {
        "id": "B2qkYJtHg8OY",
        "outputId": "e9bced1d-fcff-4666-d600-5c2d5fb23145",
        "colab": {
          "base_uri": "https://localhost:8080/",
          "height": 221
        }
      },
      "source": [
        " y = iris_data.loc[ :,\"Name\"]#目的変数\n",
        " x = iris_data.loc[ :, [\"SepalLength\",\"SepalWidth\",\"PetalLength\",\"PetalWidth\"] ]#説明変数\n",
        " print(y.head())\n",
        " print(x.head())"
      ],
      "execution_count": null,
      "outputs": [
        {
          "output_type": "stream",
          "text": [
            "0    Iris-setosa\n",
            "1    Iris-setosa\n",
            "2    Iris-setosa\n",
            "3    Iris-setosa\n",
            "4    Iris-setosa\n",
            "Name: Name, dtype: object\n",
            "   SepalLength  SepalWidth  PetalLength  PetalWidth\n",
            "0          5.1         3.5          1.4         0.2\n",
            "1          4.9         3.0          1.4         0.2\n",
            "2          4.7         3.2          1.3         0.2\n",
            "3          4.6         3.1          1.5         0.2\n",
            "4          5.0         3.6          1.4         0.2\n"
          ],
          "name": "stdout"
        }
      ]
    },
    {
      "cell_type": "markdown",
      "metadata": {
        "id": "nrpaavZGh6fi"
      },
      "source": [
        "##アヤメのデータをさらに学習用とテスト検証用に分離する"
      ]
    },
    {
      "cell_type": "code",
      "metadata": {
        "id": "-FJ-kFI3iBPp",
        "outputId": "41986d78-f824-48fc-fcee-9f171d0fc219",
        "colab": {
          "base_uri": "https://localhost:8080/",
          "height": 425
        }
      },
      "source": [
        "#学習データ（train)とテスト検証用データ(test)に分離\n",
        "x_train,x_test,y_train,y_test = train_test_split(x,y,test_size=0.2,train_size=0.8,shuffle=True)\n",
        "print(x_train.head())\n",
        "print(y_train.head())\n",
        "print(x_test.head())\n",
        "print(y_test.head())"
      ],
      "execution_count": null,
      "outputs": [
        {
          "output_type": "stream",
          "text": [
            "     SepalLength  SepalWidth  PetalLength  PetalWidth\n",
            "89           5.5         2.5          4.0         1.3\n",
            "37           4.9         3.1          1.5         0.1\n",
            "132          6.4         2.8          5.6         2.2\n",
            "101          5.8         2.7          5.1         1.9\n",
            "7            5.0         3.4          1.5         0.2\n",
            "89     Iris-versicolor\n",
            "37         Iris-setosa\n",
            "132     Iris-virginica\n",
            "101     Iris-virginica\n",
            "7          Iris-setosa\n",
            "Name: Name, dtype: object\n",
            "     SepalLength  SepalWidth  PetalLength  PetalWidth\n",
            "42           4.4         3.2          1.3         0.2\n",
            "92           5.8         2.6          4.0         1.2\n",
            "75           6.6         3.0          4.4         1.4\n",
            "73           6.1         2.8          4.7         1.2\n",
            "134          6.1         2.6          5.6         1.4\n",
            "42         Iris-setosa\n",
            "92     Iris-versicolor\n",
            "75     Iris-versicolor\n",
            "73     Iris-versicolor\n",
            "134     Iris-virginica\n",
            "Name: Name, dtype: object\n"
          ],
          "name": "stdout"
        }
      ]
    },
    {
      "cell_type": "markdown",
      "metadata": {
        "id": "a031_DBli6tO"
      },
      "source": [
        "##allAlgorithmsにclassifierを指定して「分類」でフィルターした推定器群を取得する"
      ]
    },
    {
      "cell_type": "code",
      "metadata": {
        "id": "QpsbrK3pjWi2"
      },
      "source": [
        "#推定器のリストをフィルター指定して取得\n",
        "allAlgorithms = all_estimators(type_filter=\"classifier\")\n",
        "#ワーニングを無視する\n",
        "warnings.filterwarnings('ignore')"
      ],
      "execution_count": null,
      "outputs": []
    },
    {
      "cell_type": "markdown",
      "metadata": {
        "id": "MyH8M0IWj9n-"
      },
      "source": [
        "##推定器のリストをループしながら学習&推論させる"
      ]
    },
    {
      "cell_type": "code",
      "metadata": {
        "id": "t--FXXs2j6QG",
        "outputId": "920d56cf-651b-4180-8c48-2bb2b8cbeece",
        "colab": {
          "base_uri": "https://localhost:8080/",
          "height": 544
        }
      },
      "source": [
        "#推定器のリストをループ\n",
        "for (name,algorithm) in allAlgorithms:\n",
        "  try:\n",
        "   clf = algorithm()\n",
        "   clf.fit(x_train,y_train)\n",
        "   y_pred = clf.predict(x_test)\n",
        "   print(name,\"の正解率 =\", accuracy_score(y_test,y_pred))\n",
        "\n",
        "  except Exception as e:\n",
        "    print(\"¥033[31m\"+\"Error:¥033[0m\",name,\":\",e.args)\n",
        "    #pass\n",
        "  #else:\n",
        "    #print(\"正常系です\")"
      ],
      "execution_count": null,
      "outputs": [
        {
          "output_type": "stream",
          "text": [
            "AdaBoostClassifier の正解率 = 0.9\n",
            "BaggingClassifier の正解率 = 0.9333333333333333\n",
            "BernoulliNB の正解率 = 0.26666666666666666\n",
            "CalibratedClassifierCV の正解率 = 0.9333333333333333\n",
            "ComplementNB の正解率 = 0.6666666666666666\n",
            "DecisionTreeClassifier の正解率 = 0.9666666666666667\n",
            "ExtraTreeClassifier の正解率 = 0.9\n",
            "ExtraTreesClassifier の正解率 = 0.9666666666666667\n",
            "GaussianNB の正解率 = 0.9333333333333333\n",
            "GaussianProcessClassifier の正解率 = 0.9666666666666667\n",
            "GradientBoostingClassifier の正解率 = 0.9666666666666667\n",
            "KNeighborsClassifier の正解率 = 0.9666666666666667\n",
            "LabelPropagation の正解率 = 0.9666666666666667\n",
            "LabelSpreading の正解率 = 0.9666666666666667\n",
            "LinearDiscriminantAnalysis の正解率 = 0.9333333333333333\n",
            "LinearSVC の正解率 = 0.9333333333333333\n",
            "LogisticRegression の正解率 = 0.9666666666666667\n",
            "LogisticRegressionCV の正解率 = 0.9333333333333333\n",
            "MLPClassifier の正解率 = 0.9666666666666667\n",
            "MultinomialNB の正解率 = 0.9\n",
            "NearestCentroid の正解率 = 0.9666666666666667\n",
            "NuSVC の正解率 = 0.9666666666666667\n",
            "PassiveAggressiveClassifier の正解率 = 0.6666666666666666\n",
            "Perceptron の正解率 = 0.9\n",
            "QuadraticDiscriminantAnalysis の正解率 = 0.9333333333333333\n",
            "RadiusNeighborsClassifier の正解率 = 0.9666666666666667\n",
            "RandomForestClassifier の正解率 = 0.9333333333333333\n",
            "RidgeClassifier の正解率 = 0.8666666666666667\n",
            "RidgeClassifierCV の正解率 = 0.8666666666666667\n",
            "SGDClassifier の正解率 = 0.8\n",
            "SVC の正解率 = 0.9666666666666667\n"
          ],
          "name": "stdout"
        }
      ]
    },
    {
      "cell_type": "markdown",
      "metadata": {
        "id": "ws6EAOV3qNU0"
      },
      "source": [
        "##クロスバリデーション"
      ]
    },
    {
      "cell_type": "markdown",
      "metadata": {
        "id": "zJuJZ-C_qc-J"
      },
      "source": [
        "##クロスバリデーション関連のライブラリのインポート"
      ]
    },
    {
      "cell_type": "code",
      "metadata": {
        "id": "J4Jd6mN0qOTN"
      },
      "source": [
        "#ライブラリのインポート\n",
        "#K分割のクロスバリデーション（交差検証）のためのライブラリ\n",
        "from sklearn.model_selection import KFold\n",
        "#クロスバリデーションスコアを取得するためのオブジェクト\n",
        "from sklearn.model_selection import cross_val_score"
      ],
      "execution_count": null,
      "outputs": []
    },
    {
      "cell_type": "markdown",
      "metadata": {
        "id": "R7r7ExaOrcmU"
      },
      "source": [
        "###クロスバリデーションを実行する"
      ]
    },
    {
      "cell_type": "code",
      "metadata": {
        "id": "DrFH0BHbrg9f",
        "outputId": "ff65564e-c857-49c1-cb84-360219efb2b7",
        "colab": {
          "base_uri": "https://localhost:8080/"
        }
      },
      "source": [
        "#K分割交差検証用のインスタンスを生成する\n",
        "kfold_cv = KFold(n_splits=5,shuffle=True )\n",
        "#すでに生成してあるall_estimatorsのインスタンスをループさせて、クロスバリデーションを行う\n",
        "for( name,algorithm ) in allAlgorithms:\n",
        "  try:\n",
        "    clf = algorithm()\n",
        "    if hasattr(clf,\"score\"):\n",
        "      scores = cross_val_score(clf,x,y,cv=kfold_cv)\n",
        "      print(name,\"の正解率 =\")\n",
        "      print(scores)\n",
        "  except:\n",
        "    pass\n",
        "\n"
      ],
      "execution_count": null,
      "outputs": [
        {
          "output_type": "stream",
          "text": [
            "AdaBoostClassifier の正解率 =\n",
            "[0.9        0.96666667 0.93333333 0.86666667 0.96666667]\n",
            "BaggingClassifier の正解率 =\n",
            "[1.         1.         0.93333333 0.9        0.93333333]\n",
            "BernoulliNB の正解率 =\n",
            "[0.3        0.3        0.3        0.26666667 0.23333333]\n",
            "CalibratedClassifierCV の正解率 =\n",
            "[0.9        0.96666667 0.86666667 0.93333333 0.93333333]\n",
            "ComplementNB の正解率 =\n",
            "[0.7        0.5        0.7        0.73333333 0.7       ]\n",
            "DecisionTreeClassifier の正解率 =\n",
            "[0.93333333 0.93333333 1.         0.93333333 0.93333333]\n",
            "ExtraTreeClassifier の正解率 =\n",
            "[0.9        0.93333333 0.96666667 0.9        0.93333333]\n",
            "ExtraTreesClassifier の正解率 =\n",
            "[0.93333333 0.96666667 0.93333333 0.96666667 0.96666667]\n",
            "GaussianNB の正解率 =\n",
            "[0.93333333 0.93333333 0.96666667 0.93333333 1.        ]\n",
            "GaussianProcessClassifier の正解率 =\n",
            "[1.         1.         0.96666667 0.93333333 0.93333333]\n",
            "GradientBoostingClassifier の正解率 =\n",
            "[0.9        0.96666667 0.93333333 0.93333333 1.        ]\n",
            "KNeighborsClassifier の正解率 =\n",
            "[0.96666667 0.93333333 1.         0.96666667 0.93333333]\n",
            "LabelPropagation の正解率 =\n",
            "[0.96666667 0.96666667 1.         0.93333333 0.96666667]\n",
            "LabelSpreading の正解率 =\n",
            "[0.96666667 0.93333333 1.         0.96666667 0.9       ]\n",
            "LinearDiscriminantAnalysis の正解率 =\n",
            "[1.         1.         1.         0.96666667 0.93333333]\n",
            "LinearSVC の正解率 =\n",
            "[1.         1.         0.9        0.93333333 0.93333333]\n",
            "LogisticRegression の正解率 =\n",
            "[0.93333333 1.         1.         0.9        0.93333333]\n",
            "LogisticRegressionCV の正解率 =\n",
            "[0.8        0.9        0.96666667 0.93333333 0.93333333]\n",
            "MLPClassifier の正解率 =\n",
            "[0.96666667 0.96666667 0.9        0.96666667 1.        ]\n",
            "MultinomialNB の正解率 =\n",
            "[0.7        0.56666667 0.6        0.76666667 0.96666667]\n",
            "NearestCentroid の正解率 =\n",
            "[0.9        1.         0.8        0.96666667 0.86666667]\n",
            "NuSVC の正解率 =\n",
            "[0.9        0.96666667 0.93333333 0.93333333 1.        ]\n",
            "PassiveAggressiveClassifier の正解率 =\n",
            "[0.76666667 0.7        0.66666667 0.93333333 0.93333333]\n",
            "Perceptron の正解率 =\n",
            "[0.36666667 0.76666667 0.8        0.33333333 0.66666667]\n",
            "QuadraticDiscriminantAnalysis の正解率 =\n",
            "[1.         0.93333333 1.         1.         0.93333333]\n",
            "RadiusNeighborsClassifier の正解率 =\n",
            "[0.9        1.         1.         0.96666667 0.96666667]\n",
            "RandomForestClassifier の正解率 =\n",
            "[1.         1.         0.96666667 0.8        0.93333333]\n",
            "RidgeClassifier の正解率 =\n",
            "[0.83333333 0.8        0.83333333 0.86666667 0.8       ]\n",
            "RidgeClassifierCV の正解率 =\n",
            "[0.8        0.8        0.76666667 0.9        0.86666667]\n",
            "SGDClassifier の正解率 =\n",
            "[0.7        0.56666667 0.56666667 0.56666667 0.7       ]\n",
            "SVC の正解率 =\n",
            "[0.96666667 0.96666667 0.96666667 0.96666667 0.96666667]\n"
          ],
          "name": "stdout"
        }
      ]
    },
    {
      "cell_type": "markdown",
      "metadata": {
        "id": "2-GIaxOouE0O"
      },
      "source": [
        "## cross_val_scoreよりもっと詳しい結果を取得できるクロスバリデーション"
      ]
    },
    {
      "cell_type": "code",
      "metadata": {
        "id": "7Of7TV5TuN9w"
      },
      "source": [
        "#ライブラリのインポート\n",
        "from sklearn.model_selection import cross_validate"
      ],
      "execution_count": null,
      "outputs": []
    },
    {
      "cell_type": "markdown",
      "metadata": {
        "id": "RIc2XptTufvr"
      },
      "source": [
        "##cross_validateを使ったクロスバリデーション"
      ]
    },
    {
      "cell_type": "code",
      "metadata": {
        "id": "s-E2805Nuoji",
        "outputId": "e295c9f0-59ef-4264-d526-001a5a29b17c",
        "colab": {
          "base_uri": "https://localhost:8080/",
          "height": 1000
        }
      },
      "source": [
        "#K分割交差検証用のインスタンスを生成する\n",
        "kfold_cv = KFold(n_splits=5,shuffle=True )\n",
        "#すでに生成してあるall_estimatorsのインスタンスをループさせて、クロスバリデーションを行う\n",
        "for( name,algorithm ) in allAlgorithms:\n",
        "  try:\n",
        "    clf = algorithm()\n",
        "    if hasattr(clf,\"score\"):\n",
        "      scores = cross_validate(clf,x,y,cv=kfold_cv)\n",
        "      print(name,\"の正解率 =\")\n",
        "      print(scores)\n",
        "  except:\n",
        "    pass"
      ],
      "execution_count": null,
      "outputs": [
        {
          "output_type": "stream",
          "text": [
            "AdaBoostClassifier の正解率 =\n",
            "{'fit_time': array([0.06574988, 0.06221032, 0.06117487, 0.06027865, 0.05936289]), 'score_time': array([0.0056386 , 0.00554085, 0.00558639, 0.00541043, 0.0053978 ]), 'test_score': array([0.9       , 0.93333333, 1.        , 0.9       , 0.9       ]), 'train_score': array([0.975     , 0.96666667, 0.95      , 0.96666667, 0.93333333])}\n",
            "BaggingClassifier の正解率 =\n",
            "{'fit_time': array([0.01483583, 0.01263952, 0.01479435, 0.01279116, 0.01262212]), 'score_time': array([0.00165009, 0.00162292, 0.00175285, 0.00171018, 0.00173736]), 'test_score': array([0.93333333, 1.        , 0.93333333, 0.86666667, 1.        ]), 'train_score': array([1.        , 1.        , 1.        , 0.99166667, 1.        ])}\n",
            "BernoulliNB の正解率 =\n",
            "{'fit_time': array([0.00294137, 0.00172806, 0.00165391, 0.00166917, 0.00165772]), 'score_time': array([0.00083566, 0.00080585, 0.00077128, 0.00079536, 0.00076628]), 'test_score': array([0.2       , 0.26666667, 0.2       , 0.3       , 0.3       ]), 'train_score': array([0.36666667, 0.35      , 0.36666667, 0.34166667, 0.34166667])}\n",
            "CalibratedClassifierCV の正解率 =\n",
            "{'fit_time': array([0.04195666, 0.03664732, 0.04167747, 0.03771901, 0.03601098]), 'score_time': array([0.00176311, 0.00140119, 0.00141144, 0.00142789, 0.00219297]), 'test_score': array([0.93333333, 0.93333333, 0.86666667, 0.96666667, 0.9       ]), 'train_score': array([0.94166667, 0.94166667, 0.96666667, 0.925     , 0.925     ])}\n",
            "ComplementNB の正解率 =\n",
            "{'fit_time': array([0.00277638, 0.00316381, 0.00170422, 0.00170374, 0.00165629]), 'score_time': array([0.00109267, 0.00102091, 0.00071383, 0.00085211, 0.00086617]), 'test_score': array([0.63333333, 0.66666667, 0.8       , 0.63333333, 0.6       ]), 'train_score': array([0.675     , 0.66666667, 0.63333333, 0.675     , 0.68333333])}\n",
            "DecisionTreeClassifier の正解率 =\n",
            "{'fit_time': array([0.00227237, 0.00123429, 0.00122428, 0.00124168, 0.00119901]), 'score_time': array([0.00071716, 0.00067019, 0.00061464, 0.00063205, 0.00064516]), 'test_score': array([0.9       , 0.9       , 1.        , 0.93333333, 0.96666667]), 'train_score': array([1., 1., 1., 1., 1.])}\n",
            "ExtraTreeClassifier の正解率 =\n",
            "{'fit_time': array([0.00232744, 0.00120521, 0.00116491, 0.00117326, 0.00120831]), 'score_time': array([0.00067735, 0.00063634, 0.00064707, 0.00064564, 0.00062966]), 'test_score': array([0.96666667, 0.93333333, 0.9       , 0.86666667, 0.96666667]), 'train_score': array([1., 1., 1., 1., 1.])}\n",
            "ExtraTreesClassifier の正解率 =\n",
            "{'fit_time': array([0.01055241, 0.00894642, 0.00897098, 0.00911379, 0.0090239 ]), 'score_time': array([0.00151515, 0.00142598, 0.00145054, 0.00147533, 0.00149703]), 'test_score': array([1.        , 0.93333333, 0.93333333, 0.96666667, 1.        ]), 'train_score': array([1., 1., 1., 1., 1.])}\n",
            "GaussianNB の正解率 =\n",
            "{'fit_time': array([0.00221038, 0.00250459, 0.00272965, 0.00198317, 0.00144863]), 'score_time': array([0.0012753 , 0.00120354, 0.00112844, 0.00079775, 0.00077415]), 'test_score': array([0.96666667, 1.        , 0.9       , 0.9       , 0.96666667]), 'train_score': array([0.95      , 0.95      , 0.975     , 0.96666667, 0.95833333])}\n",
            "GaussianProcessClassifier の正解率 =\n",
            "{'fit_time': array([0.03114343, 0.04123259, 0.0374403 , 0.03314781, 0.03209162]), 'score_time': array([0.00536776, 0.00519848, 0.00494218, 0.00743103, 0.00516534]), 'test_score': array([1.        , 0.9       , 1.        , 0.96666667, 0.86666667]), 'train_score': array([0.975     , 0.95833333, 0.95833333, 0.96666667, 0.98333333])}\n",
            "GradientBoostingClassifier の正解率 =\n",
            "{'fit_time': array([0.19241691, 0.12896657, 0.13766623, 0.12213659, 0.14802957]), 'score_time': array([0.00145268, 0.00130606, 0.00136447, 0.00132847, 0.00139832]), 'test_score': array([0.96666667, 0.93333333, 0.96666667, 0.9       , 1.        ]), 'train_score': array([1., 1., 1., 1., 1.])}\n",
            "KNeighborsClassifier の正解率 =\n",
            "{'fit_time': array([0.00176215, 0.00127578, 0.0013454 , 0.00128937, 0.00127196]), 'score_time': array([0.00343466, 0.0019455 , 0.00186443, 0.001863  , 0.00184774]), 'test_score': array([0.96666667, 0.96666667, 0.93333333, 0.93333333, 1.        ]), 'train_score': array([0.96666667, 0.95833333, 0.98333333, 0.98333333, 0.95833333])}\n",
            "LabelPropagation の正解率 =\n",
            "{'fit_time': array([0.00621462, 0.00273275, 0.00272369, 0.00274873, 0.00273657]), 'score_time': array([0.00163126, 0.00151324, 0.00149965, 0.00148797, 0.00150466]), 'test_score': array([1.        , 0.93333333, 0.96666667, 0.96666667, 0.93333333]), 'train_score': array([1., 1., 1., 1., 1.])}\n",
            "LabelSpreading の正解率 =\n",
            "{'fit_time': array([0.00327396, 0.00322723, 0.00314331, 0.00314617, 0.00320435]), 'score_time': array([0.00176454, 0.00152588, 0.00151324, 0.0015099 , 0.00151992]), 'test_score': array([0.96666667, 0.96666667, 0.93333333, 0.96666667, 0.96666667]), 'train_score': array([1., 1., 1., 1., 1.])}\n",
            "LinearDiscriminantAnalysis の正解率 =\n",
            "{'fit_time': array([0.00269485, 0.00257039, 0.00250125, 0.00245023, 0.00245929]), 'score_time': array([0.0009923 , 0.00097466, 0.00089979, 0.00093198, 0.00093746]), 'test_score': array([1.        , 1.        , 0.93333333, 0.96666667, 1.        ]), 'train_score': array([0.975     , 0.975     , 0.99166667, 0.98333333, 0.975     ])}\n",
            "LinearSVC の正解率 =\n",
            "{'fit_time': array([0.0112195 , 0.01129627, 0.01088262, 0.01087451, 0.02234006]), 'score_time': array([0.00112891, 0.00111222, 0.00127554, 0.00109935, 0.00155258]), 'test_score': array([1.        , 0.96666667, 0.96666667, 0.93333333, 0.93333333]), 'train_score': array([0.975     , 0.96666667, 0.975     , 0.96666667, 0.95833333])}\n",
            "LogisticRegression の正解率 =\n",
            "{'fit_time': array([0.00288892, 0.00188851, 0.00164986, 0.00182247, 0.00168467]), 'score_time': array([0.00107551, 0.00070143, 0.0006361 , 0.00070643, 0.00071383]), 'test_score': array([0.93333333, 0.96666667, 0.9       , 0.96666667, 0.93333333]), 'train_score': array([0.95      , 0.95      , 0.975     , 0.95833333, 0.95833333])}\n",
            "LogisticRegressionCV の正解率 =\n",
            "{'fit_time': array([0.36779571, 0.33084965, 0.31915855, 0.31792688, 0.31045008]), 'score_time': array([0.0009551 , 0.00090504, 0.00095963, 0.00090194, 0.00093412]), 'test_score': array([0.96666667, 0.93333333, 0.9       , 0.96666667, 0.96666667]), 'train_score': array([0.95      , 0.975     , 0.925     , 0.96666667, 0.95      ])}\n",
            "MLPClassifier の正解率 =\n",
            "{'fit_time': array([0.13076043, 0.13257551, 0.13448   , 0.1242044 , 0.12224722]), 'score_time': array([0.00119805, 0.00124311, 0.00119662, 0.00124002, 0.00120664]), 'test_score': array([0.96666667, 0.96666667, 1.        , 0.96666667, 0.96666667]), 'train_score': array([0.975     , 0.98333333, 0.96666667, 0.975     , 0.98333333])}\n",
            "MultinomialNB の正解率 =\n",
            "{'fit_time': array([0.00251341, 0.00169158, 0.00156999, 0.00158072, 0.00162196]), 'score_time': array([0.0010891 , 0.00074291, 0.00072861, 0.0006938 , 0.00069714]), 'test_score': array([0.86666667, 0.96666667, 0.6       , 0.93333333, 0.96666667]), 'train_score': array([0.85833333, 0.95      , 0.69166667, 0.95      , 0.95      ])}\n",
            "NearestCentroid の正解率 =\n",
            "{'fit_time': array([0.00151992, 0.00145578, 0.00145078, 0.00147009, 0.00145674]), 'score_time': array([0.00096297, 0.00094056, 0.00093246, 0.00092387, 0.00095892]), 'test_score': array([0.83333333, 1.        , 0.93333333, 0.9       , 0.86666667]), 'train_score': array([0.94166667, 0.90833333, 0.93333333, 0.93333333, 0.93333333])}\n",
            "NuSVC の正解率 =\n",
            "{'fit_time': array([0.00267029, 0.00194526, 0.00194764, 0.0019114 , 0.00197792]), 'score_time': array([0.00088334, 0.00074816, 0.00077248, 0.00075054, 0.00076222]), 'test_score': array([1.        , 0.9       , 0.93333333, 0.96666667, 0.9       ]), 'train_score': array([0.95833333, 0.98333333, 0.98333333, 0.975     , 0.95      ])}\n",
            "PassiveAggressiveClassifier の正解率 =\n",
            "{'fit_time': array([0.00338387, 0.00177932, 0.00168848, 0.00173306, 0.00171804]), 'score_time': array([0.00079656, 0.00077081, 0.00067401, 0.00064325, 0.00067139]), 'test_score': array([0.66666667, 0.7       , 0.73333333, 0.9       , 0.83333333]), 'train_score': array([0.80833333, 0.78333333, 0.66666667, 0.85      , 0.775     ])}\n",
            "Perceptron の正解率 =\n",
            "{'fit_time': array([0.00363016, 0.00240135, 0.00235891, 0.00235748, 0.00235939]), 'score_time': array([0.00130153, 0.00065017, 0.00071478, 0.00069022, 0.0006783 ]), 'test_score': array([0.76666667, 0.63333333, 0.56666667, 0.3       , 0.56666667]), 'train_score': array([0.64166667, 0.675     , 0.69166667, 0.34166667, 0.79166667])}\n",
            "QuadraticDiscriminantAnalysis の正解率 =\n",
            "{'fit_time': array([0.00289202, 0.00140882, 0.00144768, 0.00162935, 0.0014317 ]), 'score_time': array([0.00085974, 0.00084043, 0.00087833, 0.00080061, 0.00083447]), 'test_score': array([1.        , 1.        , 1.        , 0.9       , 0.96666667]), 'train_score': array([0.975     , 0.98333333, 0.98333333, 0.99166667, 0.98333333])}\n",
            "RadiusNeighborsClassifier の正解率 =\n",
            "{'fit_time': array([0.00162649, 0.0014329 , 0.00153136, 0.00152874, 0.00258851]), 'score_time': array([0.00500035, 0.00409484, 0.00417614, 0.00421405, 0.00586653]), 'test_score': array([0.93333333, 1.        , 0.93333333, 0.96666667, 1.        ]), 'train_score': array([0.98333333, 0.95833333, 0.975     , 0.93333333, 0.95833333])}\n",
            "RandomForestClassifier の正解率 =\n",
            "{'fit_time': array([0.01402259, 0.0125978 , 0.01195574, 0.01178408, 0.01195884]), 'score_time': array([0.00216675, 0.00166464, 0.00157166, 0.00168347, 0.00154591]), 'test_score': array([1.        , 0.93333333, 0.93333333, 0.93333333, 0.96666667]), 'train_score': array([0.98333333, 1.        , 1.        , 1.        , 1.        ])}\n",
            "RidgeClassifier の正解率 =\n",
            "{'fit_time': array([0.00439739, 0.00244451, 0.0024929 , 0.0024972 , 0.00252175]), 'score_time': array([0.00074005, 0.00071478, 0.00075412, 0.00069141, 0.00069976]), 'test_score': array([0.86666667, 0.8       , 0.83333333, 0.76666667, 0.9       ]), 'train_score': array([0.85833333, 0.86666667, 0.88333333, 0.86666667, 0.84166667])}\n",
            "RidgeClassifierCV の正解率 =\n",
            "{'fit_time': array([0.00474119, 0.00272632, 0.00273824, 0.00274754, 0.00460482]), 'score_time': array([0.00079465, 0.00076699, 0.00070858, 0.00090098, 0.00113368]), 'test_score': array([0.8       , 0.8       , 0.93333333, 0.86666667, 0.73333333]), 'train_score': array([0.86666667, 0.85833333, 0.84166667, 0.875     , 0.84166667])}\n",
            "SGDClassifier の正解率 =\n",
            "{'fit_time': array([0.00364518, 0.00188756, 0.0018425 , 0.00189161, 0.00183415]), 'score_time': array([0.0013628 , 0.00071836, 0.00068784, 0.00067234, 0.00068831]), 'test_score': array([0.43333333, 0.66666667, 0.63333333, 0.66666667, 0.7       ]), 'train_score': array([0.55      , 0.66666667, 0.675     , 0.66666667, 0.65833333])}\n",
            "SVC の正解率 =\n",
            "{'fit_time': array([0.00228119, 0.00164342, 0.00159311, 0.00159931, 0.00157046]), 'score_time': array([0.00115323, 0.00071096, 0.00070715, 0.00067568, 0.00070596]), 'test_score': array([0.96666667, 0.93333333, 1.        , 0.96666667, 1.        ]), 'train_score': array([0.98333333, 0.99166667, 0.975     , 0.99166667, 0.98333333])}\n"
          ],
          "name": "stdout"
        }
      ]
    },
    {
      "cell_type": "markdown",
      "metadata": {
        "id": "HCemfSFcvdgh"
      },
      "source": [
        "##グリッドサーチで最適なパラメータを探し求める"
      ]
    },
    {
      "cell_type": "markdown",
      "metadata": {
        "id": "E0_XkMLWv0hQ"
      },
      "source": [
        "###ライブラリをimport"
      ]
    },
    {
      "cell_type": "code",
      "metadata": {
        "id": "qFkqydHZvieX"
      },
      "source": [
        "#グリッドサーチのオブジェクトクラスをimport\n",
        "from sklearn.model_selection import GridSearchCV\n",
        "from sklearn.svm import SVC"
      ],
      "execution_count": null,
      "outputs": []
    },
    {
      "cell_type": "markdown",
      "metadata": {
        "id": "EWUI-Ph-wJtr"
      },
      "source": [
        "###グリッドサーチを実行してパラメータを試す"
      ]
    },
    {
      "cell_type": "code",
      "metadata": {
        "id": "bfKfbUOKwO9A",
        "outputId": "8630c3e7-3cc1-499a-d5a5-65b532315e7a",
        "colab": {
          "base_uri": "https://localhost:8080/",
          "height": 119
        }
      },
      "source": [
        "#グリッドサーチで試すパラメータのパターン指定を定義する\n",
        "parameters = [\n",
        "              {\"C\":[1,10,100,1000],\"kernel\":[\"linear\"] },\n",
        "              {\"C\":[1,10,100,1000],\"kernel\":[\"rbf\"] ,\"gamma\":[0.001,0.0001] },\n",
        "              {\"C\":[1,10,100,1000],\"kernel\":[\"sigmoid\"],\"gamma\":[0.001,0.0001]  }\n",
        "]\n",
        "\n",
        "clf=SVC()\n",
        "clf.fit(x_train,y_train)\n",
        "y_pred=clf.predict(x_test)\n",
        "print(\"普通の学習の正解率 = \",accuracy_score(y_test,y_pred))\n",
        "\n",
        "# グリッドサーチを行う\n",
        "kfold_cv = KFold(n_splits=5,shuffle=True )\n",
        "#グリッドサーチの中でK分割交差検証も行われる\n",
        "clf_gird = GridSearchCV(SVC(),parameters,cv=kfold_cv)\n",
        "clf_gird.fit(x_train,y_train)\n",
        "#学習済みのモデルに最終的に設定された最適と思われるパラメータを表示\n",
        "print(\"最適なパラメーター = \",clf_gird.best_estimator_)\n",
        "\n",
        "#最適なパラメーターで評価\n",
        "y_pred = clf_gird.predict(x_test)\n",
        "print(\"グリッドサーチの正解率 = \",accuracy_score(y_test,y_pred))"
      ],
      "execution_count": null,
      "outputs": [
        {
          "output_type": "stream",
          "text": [
            "普通の学習の正解率 =  0.9666666666666667\n",
            "最適なパラメーター =  SVC(C=1, cache_size=200, class_weight=None, coef0=0.0,\n",
            "  decision_function_shape='ovr', degree=3, gamma='auto_deprecated',\n",
            "  kernel='linear', max_iter=-1, probability=False, random_state=None,\n",
            "  shrinking=True, tol=0.001, verbose=False)\n",
            "グリッドサーチの正解率 =  0.9666666666666667\n"
          ],
          "name": "stdout"
        }
      ]
    },
    {
      "cell_type": "markdown",
      "metadata": {
        "id": "ybX9j7ZoFEhs"
      },
      "source": [
        "##Numpyの操作確認"
      ]
    },
    {
      "cell_type": "code",
      "metadata": {
        "id": "goweqExrFIff"
      },
      "source": [
        "import numpy as np"
      ],
      "execution_count": 1,
      "outputs": []
    },
    {
      "cell_type": "code",
      "metadata": {
        "id": "240iKK6jzIxi",
        "outputId": "fd25704f-8197-4d67-85a4-05cac5d63a45",
        "colab": {
          "base_uri": "https://localhost:8080/"
        }
      },
      "source": [
        "#numpy配列の初期化\n",
        "a = np.array([1,2,3,4,5]) \n",
        "print(a)\n",
        "#型を表示\n",
        "print(type(a))"
      ],
      "execution_count": 3,
      "outputs": [
        {
          "output_type": "stream",
          "text": [
            "[1 2 3 4 5]\n",
            "<class 'numpy.ndarray'>\n"
          ],
          "name": "stdout"
        }
      ]
    },
    {
      "cell_type": "code",
      "metadata": {
        "id": "Zc9-9Cw6zg3v",
        "outputId": "3073b995-0c74-4209-cab5-84540afd796c",
        "colab": {
          "base_uri": "https://localhost:8080/"
        }
      },
      "source": [
        "#2次元のnparrayを定義\n",
        "b = np.array([[1,2,3],[4,5,6]])\n",
        "print(b)"
      ],
      "execution_count": 5,
      "outputs": [
        {
          "output_type": "stream",
          "text": [
            "[[1 2 3]\n",
            " [4 5 6]]\n"
          ],
          "name": "stdout"
        }
      ]
    },
    {
      "cell_type": "code",
      "metadata": {
        "id": "YkDy2Rrsz4c2",
        "outputId": "bca10bce-eab6-4263-fbab-a0afa8febc71",
        "colab": {
          "base_uri": "https://localhost:8080/"
        }
      },
      "source": [
        "#配列の要素数を指定して0埋めで初期化\n",
        "print(np.zeros(10))\n",
        "print(np.zeros((3,2)))\n",
        "print(np.ones(2))"
      ],
      "execution_count": 8,
      "outputs": [
        {
          "output_type": "stream",
          "text": [
            "[0. 0. 0. 0. 0. 0. 0. 0. 0. 0.]\n",
            "[[0. 0.]\n",
            " [0. 0.]\n",
            " [0. 0.]]\n",
            "[1. 1.]\n"
          ],
          "name": "stdout"
        }
      ]
    },
    {
      "cell_type": "code",
      "metadata": {
        "id": "eTTuWPrS0PBe",
        "outputId": "166e3362-5c87-4f10-90c0-3f027f49d98c",
        "colab": {
          "base_uri": "https://localhost:8080/"
        }
      },
      "source": [
        "#連番の配列の要素数を指定して初期化\n",
        "print(np.arange(5))#0から5未満\n",
        "print(np.arange(2,9))#2から9未満\n",
        "print(np.arange(5,8,0.5))#5から8未満 0.5刻み"
      ],
      "execution_count": 11,
      "outputs": [
        {
          "output_type": "stream",
          "text": [
            "[0 1 2 3 4]\n",
            "[2 3 4 5 6 7 8]\n",
            "[5.  5.5 6.  6.5 7.  7.5]\n"
          ],
          "name": "stdout"
        }
      ]
    },
    {
      "cell_type": "markdown",
      "metadata": {
        "id": "5u9sG8fi1fxt"
      },
      "source": [
        "##numpyで行列計算"
      ]
    },
    {
      "cell_type": "code",
      "metadata": {
        "id": "D1PVYVzL1OV1",
        "outputId": "8eca8fb7-87f7-4643-911d-e00d0e19067b",
        "colab": {
          "base_uri": "https://localhost:8080/"
        }
      },
      "source": [
        "a = np.array([1,2,3,4,5])\n",
        "b = a*2#全ての要素を一度に２倍\n",
        "print(b)\n",
        "x=np.arange(10)\n",
        "print(x)\n",
        "y=3*x+5\n",
        "print(y)"
      ],
      "execution_count": 13,
      "outputs": [
        {
          "output_type": "stream",
          "text": [
            "[ 2  4  6  8 10]\n",
            "[0 1 2 3 4 5 6 7 8 9]\n",
            "[ 5  8 11 14 17 20 23 26 29 32]\n"
          ],
          "name": "stdout"
        }
      ]
    },
    {
      "cell_type": "code",
      "metadata": {
        "id": "qZ_KLPYe1qSX",
        "outputId": "9e3e8148-9c70-4e16-dea7-ef452f8be031",
        "colab": {
          "base_uri": "https://localhost:8080/"
        }
      },
      "source": [
        "#配列の次元数を表示\n",
        "a = np.array([[1,2,3],[4,5,6]])\n",
        "print(a)\n",
        "print(a.shape)\n",
        "\n",
        "b = np.array([[1,2,3],[4,5,6],[7,8,9]])\n",
        "print(b)\n",
        "print(b.shape)"
      ],
      "execution_count": 16,
      "outputs": [
        {
          "output_type": "stream",
          "text": [
            "[[1 2 3]\n",
            " [4 5 6]]\n",
            "(2, 3)\n",
            "[[1 2 3]\n",
            " [4 5 6]\n",
            " [7 8 9]]\n",
            "(3, 3)\n"
          ],
          "name": "stdout"
        }
      ]
    },
    {
      "cell_type": "code",
      "metadata": {
        "id": "w3z6bIoi2slF",
        "outputId": "33c5c28d-ec44-4f35-b54f-65f54be05e2a",
        "colab": {
          "base_uri": "https://localhost:8080/"
        }
      },
      "source": [
        "#Numpy配列で次元数を変換する\n",
        "a = np.array([[1,2,3],[4,5,6]])\n",
        "print(\"a=\",a)\n",
        "b = a.flatten()#フラットにする（１次元配列にする）\n",
        "print(\"b=\",b)\n",
        "a = np.array([[1,2,3],[4,5,6]])#2行３列\n",
        "print(a)\n",
        "b = a.reshape(3,2)#3行2列に変換（回転）させる\n",
        "print(b)"
      ],
      "execution_count": 18,
      "outputs": [
        {
          "output_type": "stream",
          "text": [
            "a= [[1 2 3]\n",
            " [4 5 6]]\n",
            "b= [1 2 3 4 5 6]\n",
            "[[1 2 3]\n",
            " [4 5 6]]\n",
            "[[1 2]\n",
            " [3 4]\n",
            " [5 6]]\n"
          ],
          "name": "stdout"
        }
      ]
    },
    {
      "cell_type": "markdown",
      "metadata": {
        "id": "0EGuC-vI3z6a"
      },
      "source": [
        "##numpyの配列にアクセスする方法"
      ]
    },
    {
      "cell_type": "code",
      "metadata": {
        "id": "M_NCABkH33ew",
        "outputId": "5f074eb5-e29b-4251-ac7f-fddb4cc27c3f",
        "colab": {
          "base_uri": "https://localhost:8080/"
        }
      },
      "source": [
        "v = np.array([[1,2,3],[4,5,6],[7,8,9]])\n",
        "a = v[0]\n",
        "print(a)#２次元配列の１行目\n",
        "b = v[1:]\n",
        "print(b)#1行目以降\n",
        "c = v[:,0]\n",
        "print(c)#すべての行の0列目"
      ],
      "execution_count": 23,
      "outputs": [
        {
          "output_type": "stream",
          "text": [
            "[1 2 3]\n",
            "[[4 5 6]\n",
            " [7 8 9]]\n",
            "[1 4 7]\n"
          ],
          "name": "stdout"
        }
      ]
    }
  ]
}