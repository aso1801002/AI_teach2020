{
  "nbformat": 4,
  "nbformat_minor": 0,
  "metadata": {
    "colab": {
      "name": "and.ipynb",
      "provenance": [],
      "collapsed_sections": [],
      "authorship_tag": "ABX9TyP3xrzO+Tm2s4oBP0EXqF23",
      "include_colab_link": true
    },
    "kernelspec": {
      "name": "python3",
      "display_name": "Python 3"
    }
  },
  "cells": [
    {
      "cell_type": "markdown",
      "metadata": {
        "id": "view-in-github",
        "colab_type": "text"
      },
      "source": [
        "<a href=\"https://colab.research.google.com/github/aso1801002/AI_tech2020/blob/master/and.ipynb\" target=\"_parent\"><img src=\"https://colab.research.google.com/assets/colab-badge.svg\" alt=\"Open In Colab\"/></a>"
      ]
    },
    {
      "cell_type": "markdown",
      "metadata": {
        "id": "TAFHBPc9qgpB"
      },
      "source": [
        "## AND演算をモデルに学ばせる（LinerSVC)"
      ]
    },
    {
      "cell_type": "code",
      "metadata": {
        "id": "WGxkvVg_qyOU"
      },
      "source": [
        "#  scikit-learnを使うため、インポートする\n",
        "from  sklearn.svm import LinearSVC #線形SVCのオブジェクト\n",
        "from sklearn.metrics import accuracy_score #結果を評価するためのオブジェクト"
      ],
      "execution_count": 16,
      "outputs": []
    },
    {
      "cell_type": "markdown",
      "metadata": {
        "id": "BLycfEvasRD-"
      },
      "source": [
        "## 学習のためのデータを用意する\n"
      ]
    },
    {
      "cell_type": "code",
      "metadata": {
        "id": "LVlAKwuJsb1K"
      },
      "source": [
        "#入力値を表すデータ\n",
        "#入力X,入力Y\n",
        "learn_data = [[0,0], [1,0], [0,1], [1,1]]\n",
        "# (XとYのand)結果\n",
        "learn_label = [0, 0, 0, 1]\n"
      ],
      "execution_count": 17,
      "outputs": []
    },
    {
      "cell_type": "markdown",
      "metadata": {
        "id": "IFGib9VCtl89"
      },
      "source": [
        "##アルゴリズムのインスタンスを生成"
      ]
    },
    {
      "cell_type": "code",
      "metadata": {
        "id": "A6uRZauwtrFE"
      },
      "source": [
        "###線形SVCのインスタンスを生成=(モデル)\n",
        "clf = LinearSVC()"
      ],
      "execution_count": 18,
      "outputs": []
    },
    {
      "cell_type": "markdown",
      "metadata": {
        "id": "wyv7FTKiuGnE"
      },
      "source": [
        "##モデルに学習させる(fitメソッド)\n"
      ]
    },
    {
      "cell_type": "code",
      "metadata": {
        "id": "AURp-vrJuOY-",
        "outputId": "3c0f5aa5-ffd1-4726-c0e6-1672d74ad08f",
        "colab": {
          "base_uri": "https://localhost:8080/",
          "height": 85
        }
      },
      "source": [
        "clf.fit(learn_data,learn_label)"
      ],
      "execution_count": 19,
      "outputs": [
        {
          "output_type": "execute_result",
          "data": {
            "text/plain": [
              "LinearSVC(C=1.0, class_weight=None, dual=True, fit_intercept=True,\n",
              "          intercept_scaling=1, loss='squared_hinge', max_iter=1000,\n",
              "          multi_class='ovr', penalty='l2', random_state=None, tol=0.0001,\n",
              "          verbose=0)"
            ]
          },
          "metadata": {
            "tags": []
          },
          "execution_count": 19
        }
      ]
    },
    {
      "cell_type": "markdown",
      "metadata": {
        "id": "TIkM63rougff"
      },
      "source": [
        "##モデルがちゃんと学習できたか、テストデータで、予測させてみる"
      ]
    },
    {
      "cell_type": "code",
      "metadata": {
        "id": "5c13w4yRusjG",
        "outputId": "9bf843f6-66f7-43b0-f14a-f458887080b6",
        "colab": {
          "base_uri": "https://localhost:8080/",
          "height": 68
        }
      },
      "source": [
        "##予測用のテストデータ（検証データ）を作る\n",
        "test_data = [[0,0], [1,0], [0,1], [1,1]]\n",
        "#モデルにテストデータを回答させる（予測）予測のメソッドは、predict\n",
        "test_label = clf.predict(test_data)\n",
        "print(test_label)\n",
        "#予測結果の評価\n",
        "print(test_data , \"の予測結果:\" , test_label)\n",
        "# 結果の精度を表示させる\n",
        "print(\"正解率 = \" , accuracy_score([0, 0, 0, 1], test_label))"
      ],
      "execution_count": 20,
      "outputs": [
        {
          "output_type": "stream",
          "text": [
            "[0 0 0 1]\n",
            "[[0, 0], [1, 0], [0, 1], [1, 1]] の予測結果: [0 0 0 1]\n",
            "正解率 =  1.0\n"
          ],
          "name": "stdout"
        }
      ]
    },
    {
      "cell_type": "markdown",
      "metadata": {
        "id": "MJX7hgc4wM2v"
      },
      "source": [
        "## XOR演算を実装する"
      ]
    },
    {
      "cell_type": "code",
      "metadata": {
        "id": "WCT_m5l6wTxV"
      },
      "source": [
        "# XOR演算を学習するためのデータを用意する\n",
        "# X,Y の順\n",
        "learn_data =  [ [0,0], [1,0], [0,1], [1,1] ]\n",
        "# X xor Y の結果正解データ（学習ラベル）\n",
        "learn_label = [ 0, 1, 1, 0 ]"
      ],
      "execution_count": 21,
      "outputs": []
    },
    {
      "cell_type": "code",
      "metadata": {
        "id": "MGcaNg1exLrr",
        "outputId": "26a06f68-aae3-4ece-aa61-33f25d2347e2",
        "colab": {
          "base_uri": "https://localhost:8080/",
          "height": 85
        }
      },
      "source": [
        "# 学習モデルのインスタンスを作る　（LinearSVC）\n",
        "clf = LinearSVC()\n",
        "# 学習させる\n",
        "clf.fit(learn_data, learn_label)"
      ],
      "execution_count": 22,
      "outputs": [
        {
          "output_type": "execute_result",
          "data": {
            "text/plain": [
              "LinearSVC(C=1.0, class_weight=None, dual=True, fit_intercept=True,\n",
              "          intercept_scaling=1, loss='squared_hinge', max_iter=1000,\n",
              "          multi_class='ovr', penalty='l2', random_state=None, tol=0.0001,\n",
              "          verbose=0)"
            ]
          },
          "metadata": {
            "tags": []
          },
          "execution_count": 22
        }
      ]
    },
    {
      "cell_type": "code",
      "metadata": {
        "id": "yDOBkDirxqb8"
      },
      "source": [
        "# 学習モデルに推論させる\n",
        "test_data = [ [0,0], [1,0], [0,1], [1,1] ]\n",
        "test_label = clf.predict(test_data)"
      ],
      "execution_count": 23,
      "outputs": []
    },
    {
      "cell_type": "code",
      "metadata": {
        "id": "Aq1s_kcNyNph",
        "outputId": "bd6ebffc-52c0-4a0a-e9e5-67ed7bb2e6f5",
        "colab": {
          "base_uri": "https://localhost:8080/",
          "height": 51
        }
      },
      "source": [
        "# 結果を検証する\n",
        "print(test_data, \"の予測結果\", test_label)\n",
        "print(\"正解率 = \" , accuracy_score([0, 1, 1, 0],test_label))"
      ],
      "execution_count": 24,
      "outputs": [
        {
          "output_type": "stream",
          "text": [
            "[[0, 0], [1, 0], [0, 1], [1, 1]] の予測結果 [0 0 0 0]\n",
            "正解率 =  0.5\n"
          ],
          "name": "stdout"
        }
      ]
    },
    {
      "cell_type": "markdown",
      "metadata": {
        "id": "ARTa6UQTd4rl"
      },
      "source": [
        "## K-近傍法\n"
      ]
    },
    {
      "cell_type": "code",
      "metadata": {
        "id": "d9O0SU0beeEt"
      },
      "source": [
        "learn_data = [[0,0], [1,0], [0,1], [1,1]]\n",
        "learn_label = [0, 1, 1, 0]"
      ],
      "execution_count": 25,
      "outputs": []
    },
    {
      "cell_type": "code",
      "metadata": {
        "id": "PkW-pnZ5e8Wq"
      },
      "source": [
        "clf = KNeighborsClassifier(n_neighbors= 1)"
      ],
      "execution_count": 26,
      "outputs": []
    },
    {
      "cell_type": "code",
      "metadata": {
        "id": "b9ijBlGNfG8i",
        "outputId": "0dc7eb93-7eaf-46cd-ee3a-2cf1c6950190",
        "colab": {
          "base_uri": "https://localhost:8080/",
          "height": 68
        }
      },
      "source": [
        "clf.fit(learn_data, learn_label)"
      ],
      "execution_count": 27,
      "outputs": [
        {
          "output_type": "execute_result",
          "data": {
            "text/plain": [
              "KNeighborsClassifier(algorithm='auto', leaf_size=30, metric='minkowski',\n",
              "                     metric_params=None, n_jobs=None, n_neighbors=1, p=2,\n",
              "                     weights='uniform')"
            ]
          },
          "metadata": {
            "tags": []
          },
          "execution_count": 27
        }
      ]
    },
    {
      "cell_type": "code",
      "metadata": {
        "id": "56B9ZBPVfOBb"
      },
      "source": [
        "test_data = [ [0,0], [1,0], [0,1], [1,1] ]\n",
        "test_label = clf.predict(test_data)"
      ],
      "execution_count": 28,
      "outputs": []
    },
    {
      "cell_type": "code",
      "metadata": {
        "id": "lIa_IEwofWuW",
        "outputId": "bf444c50-f583-401c-b7ee-13369dbcc5c1",
        "colab": {
          "base_uri": "https://localhost:8080/",
          "height": 51
        }
      },
      "source": [
        "print(test_data, \"の予測結果\", test_label)\n",
        "print(\"正解率 = \" , accuracy_score([0, 1, 1, 0],test_label))"
      ],
      "execution_count": 29,
      "outputs": [
        {
          "output_type": "stream",
          "text": [
            "[[0, 0], [1, 0], [0, 1], [1, 1]] の予測結果 [0 1 1 0]\n",
            "正解率 =  1.0\n"
          ],
          "name": "stdout"
        }
      ]
    }
  ]
}